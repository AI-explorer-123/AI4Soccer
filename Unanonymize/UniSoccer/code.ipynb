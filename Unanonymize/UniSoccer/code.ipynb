{
 "cells": [
  {
   "cell_type": "markdown",
   "metadata": {},
   "source": [
    "## 处理数据"
   ]
  },
  {
   "cell_type": "markdown",
   "metadata": {},
   "source": [
    "### 裁剪视频clip"
   ]
  },
  {
   "cell_type": "code",
   "execution_count": null,
   "metadata": {},
   "outputs": [
    {
     "name": "stdout",
     "output_type": "stream",
     "text": [
      "找到 3 个JSON文件需要处理\n",
      "正在处理文件: classification_test.json\n"
     ]
    },
    {
     "name": "stderr",
     "output_type": "stream",
     "text": [
      "  0%|          | 0/3256 [00:00<?, ?it/s]"
     ]
    },
    {
     "name": "stderr",
     "output_type": "stream",
     "text": [
      "  0%|          | 6/3256 [00:04<42:00,  1.29it/s]"
     ]
    }
   ],
   "source": [
    "import json\n",
    "import os\n",
    "import ffmpeg\n",
    "from pathlib import Path\n",
    "import re\n",
    "import glob\n",
    "from tqdm import tqdm\n",
    "\n",
    "\n",
    "def extract_time_from_path(video_path):\n",
    "    \"\"\"从视频路径中提取时间 (例如: 43_52.mp4)\"\"\"\n",
    "    time_pattern = r'(\\d+)_(\\d+)_(\\d+)\\.mp4$'\n",
    "    match = re.search(time_pattern, video_path)\n",
    "    if match:\n",
    "        half, minutes, seconds = map(int, match.groups())\n",
    "        return half, minutes * 60 + seconds\n",
    "    return None\n",
    "\n",
    "\n",
    "def clip_video(input_path, output_path, center_time, window_size=30):\n",
    "    \"\"\"\n",
    "    在中心时间点周围裁剪指定时长的视频\n",
    "    Args:\n",
    "        input_path: 输入视频路径\n",
    "        output_path: 输出视频路径\n",
    "        center_time: 中心时间点(秒)\n",
    "        window_size: 窗口大小(秒)\n",
    "    \"\"\"\n",
    "    start_time = max(0, center_time - window_size / 2)\n",
    "\n",
    "    try:\n",
    "        os.makedirs(os.path.dirname(output_path), exist_ok=True)\n",
    "\n",
    "        stream = ffmpeg.input(input_path, ss=start_time, t=window_size)\n",
    "        stream = ffmpeg.filter(stream, 'scale', 224, 224)  # 调整尺寸到224x224\n",
    "        stream = ffmpeg.output(stream, output_path,\n",
    "                               vcodec='libx264',  # 使用H.264编码\n",
    "                               preset='medium',   # 编码速度和质量的平衡\n",
    "                               crf=23,            # 控制视频质量\n",
    "                               an=None)           # 删除音频部分\n",
    "        ffmpeg.run(stream, overwrite_output=True, quiet=True)\n",
    "    except ffmpeg.Error as e:\n",
    "        print(\n",
    "            f\"处理视频时出错 {input_path}: {e.stderr.decode() if e.stderr else str(e)}\")\n",
    "    except Exception as e:\n",
    "        print(f\"处理视频时发生意外错误 {input_path}: {str(e)}\")\n",
    "\n",
    "\n",
    "def process_json_file(json_path, base_video_path, output_base_path):\n",
    "    \"\"\"处理单个JSON文件\"\"\"\n",
    "    try:\n",
    "        with open(json_path, 'r') as f:\n",
    "            json_data = json.load(f)\n",
    "\n",
    "        print(f\"正在处理文件: {os.path.basename(json_path)}\")\n",
    "\n",
    "        for i, item in enumerate(tqdm(json_data)):\n",
    "            if \"video\" not in item:\n",
    "                continue\n",
    "\n",
    "            video_path = item[\"video\"]\n",
    "            if not video_path:\n",
    "                continue\n",
    "\n",
    "            match_path = os.path.dirname(video_path)\n",
    "            # 获取分钟和秒数\n",
    "            time_str = os.path.basename(video_path)\n",
    "            half, center_time = extract_time_from_path(time_str)\n",
    "\n",
    "            if center_time is None:\n",
    "                continue\n",
    "\n",
    "            input_video = os.path.join(\n",
    "                base_video_path, match_path, f\"{half}_224p.mkv\")\n",
    "            output_video = os.path.join(output_base_path, video_path)\n",
    "\n",
    "            if not os.path.exists(input_video):\n",
    "                print(f\"未找到输入视频: {input_video}\")\n",
    "                continue\n",
    "\n",
    "            clip_video(input_video, output_video, center_time)\n",
    "\n",
    "    except json.JSONDecodeError as e:\n",
    "        print(f\"JSON文件解析错误 {json_path}: {str(e)}\")\n",
    "    except Exception as e:\n",
    "        print(f\"处理JSON文件时发生错误 {json_path}: {str(e)}\")\n",
    "\n",
    "\n",
    "def main():\n",
    "    # 定义路径\n",
    "    json_dir = \"/remote-home/jiayuanrao/haokai/UniSoccer/train_data/json/MatchTime\"\n",
    "    base_video_path = \"/remote-home/jiayuanrao/haokai/Dataset/SoccerNet/Raw_match\"\n",
    "    output_base_path = \"/remote-home/jiayuanrao/haokai/UniSoccer/train_data/video_clips\"\n",
    "\n",
    "    # 获取所有JSON文件\n",
    "    json_files = glob.glob(os.path.join(json_dir, \"*.json\"))\n",
    "\n",
    "    print(f\"找到 {len(json_files)} 个JSON文件需要处理\")\n",
    "\n",
    "    # 处理每个JSON文件\n",
    "    for json_file in json_files:\n",
    "        process_json_file(json_file, base_video_path, output_base_path)\n",
    "\n",
    "\n",
    "if __name__ == \"__main__\":\n",
    "    main()"
   ]
  }
 ],
 "metadata": {
  "kernelspec": {
   "display_name": "zhk",
   "language": "python",
   "name": "python3"
  },
  "language_info": {
   "codemirror_mode": {
    "name": "ipython",
    "version": 3
   },
   "file_extension": ".py",
   "mimetype": "text/x-python",
   "name": "python",
   "nbconvert_exporter": "python",
   "pygments_lexer": "ipython3",
   "version": "3.11.12"
  }
 },
 "nbformat": 4,
 "nbformat_minor": 2
}
