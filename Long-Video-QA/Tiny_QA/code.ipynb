{
 "cells": [
  {
   "cell_type": "markdown",
   "metadata": {},
   "source": [
    "## 统计数据集QA对"
   ]
  },
  {
   "cell_type": "code",
   "execution_count": 1,
   "metadata": {},
   "outputs": [
    {
     "name": "stdout",
     "output_type": "stream",
     "text": [
      "平均QA对数量: (25.05263157894737, 57, 1428)\n",
      "事件QA对数量: defaultdict(<class 'int'>, {'goal': 416, 'past': 551, 'half': 410, 'future': 467, 'corner': 674, 'yellow card': 338})\n"
     ]
    }
   ],
   "source": [
    "import json\n",
    "import os\n",
    "from collections import defaultdict\n",
    "\n",
    "# 计算QA文件夹下所有json中平均QA对, 计算三个事件分别的数量，以及future、full、past QA对数量\n",
    "def calculate_avg_qa_pairs(folder_path):\n",
    "    total_qa_pairs = 0\n",
    "    num_files = 0\n",
    "    for filename in os.listdir(folder_path):\n",
    "        if filename.endswith('.json'):\n",
    "            file_path = os.path.join(folder_path, filename)\n",
    "            with open(file_path, 'r', encoding='utf-8') as file:\n",
    "                data = json.load(file)\n",
    "                total_qa_pairs += len(data)\n",
    "                num_files += 1\n",
    "    if num_files > 0:\n",
    "        avg_qa_pairs = total_qa_pairs / num_files\n",
    "        return avg_qa_pairs, num_files, total_qa_pairs\n",
    "    else:\n",
    "        return 0\n",
    "# 示例用法\n",
    "folder_path = './First_Half_QA'\n",
    "avg_qa_pairs = calculate_avg_qa_pairs(folder_path)\n",
    "print(f\"平均QA对数量: {avg_qa_pairs}\")\n",
    "\n",
    "# 计算goal, yellow_card, corner分别的数量，以及future、full、past QA对数量\n",
    "def calculate_event_qa_pairs(folder_path):\n",
    "    event_qa_pairs = defaultdict(int)\n",
    "    num_files = 0\n",
    "    for filename in os.listdir(folder_path):\n",
    "        if filename.endswith('.json'):\n",
    "            file_path = os.path.join(folder_path, filename)\n",
    "            with open(file_path, 'r', encoding='utf-8') as file:\n",
    "                data = json.load(file)\n",
    "                for qa_pair in data:\n",
    "                    event_type = qa_pair.get('event_type')\n",
    "                    qa_time = qa_pair.get('type')\n",
    "                    event_qa_pairs[event_type] += 1\n",
    "                    event_qa_pairs[qa_time] += 1\n",
    "                num_files += 1\n",
    "    return event_qa_pairs, num_files\n",
    "# 示例用法\n",
    "folder_path = './First_Half_QA'\n",
    "event_qa_pairs, num_files = calculate_event_qa_pairs(folder_path)\n",
    "print(f\"事件QA对数量: {event_qa_pairs}\")"
   ]
  },
  {
   "cell_type": "markdown",
   "metadata": {},
   "source": [
    "## 统计平均clip长度"
   ]
  },
  {
   "cell_type": "markdown",
   "metadata": {},
   "source": [
    "### end - start"
   ]
  },
  {
   "cell_type": "code",
   "execution_count": 3,
   "metadata": {},
   "outputs": [
    {
     "name": "stdout",
     "output_type": "stream",
     "text": [
      "准备剪辑视频长度列表...\n"
     ]
    },
    {
     "name": "stderr",
     "output_type": "stream",
     "text": [
      "读取 QA 文件并准备剪辑长度: 100%|██████████| 57/57 [00:00<00:00, 1020.71it/s]\n"
     ]
    }
   ],
   "source": [
    "import os\n",
    "import json\n",
    "import subprocess\n",
    "import argparse\n",
    "import datetime\n",
    "from tqdm import tqdm\n",
    "import concurrent.futures  # Added for threading\n",
    "\n",
    "\n",
    "def load_json(filepath):\n",
    "    \"\"\"Loads data from a JSON file.\"\"\"\n",
    "    try:\n",
    "        with open(filepath, 'r', encoding='utf-8') as f:\n",
    "            return json.load(f)\n",
    "    except FileNotFoundError:\n",
    "        print(f\"Error: File not found - {filepath}\")\n",
    "        return None\n",
    "    except json.JSONDecodeError:\n",
    "        print(f\"Error: Could not decode JSON from file - {filepath}\")\n",
    "        return None\n",
    "\n",
    "\n",
    "def parse_timestamp_to_seconds(timestamp_str):\n",
    "    \"\"\"Converts MM:SS timestamp string to total seconds.\"\"\"\n",
    "    try:\n",
    "        minutes, seconds = map(int, timestamp_str.split(':'))\n",
    "        return minutes * 60 + seconds\n",
    "    except ValueError:\n",
    "        print(\n",
    "            f\"Error: Invalid timestamp format - {timestamp_str}. Expected MM:SS.\")\n",
    "        return None\n",
    "\n",
    "\n",
    "def get_event_timestamp(match_data, event_index):\n",
    "    \"\"\"Retrieves the timestamp (in seconds) for a given event index.\"\"\"\n",
    "    if match_data and 0 <= event_index < len(match_data.get('comments', [])):\n",
    "        timestamp_str = match_data['comments'][event_index].get('time_stamp')\n",
    "        if timestamp_str:\n",
    "            return parse_timestamp_to_seconds(timestamp_str)\n",
    "    return None\n",
    "\n",
    "\n",
    "def find_previous_event_timestamp(match_data, current_index, event_type):\n",
    "    \"\"\"Finds the timestamp (in seconds) of the previous event of the same type.\"\"\"\n",
    "    if not match_data or not match_data.get('comments'):\n",
    "        return None\n",
    "    previous_timestamp_sec = None\n",
    "    comments = match_data.get('comments', [])\n",
    "    for i in range(current_index - 1, -1, -1):\n",
    "        if i < len(comments) and comments[i].get('comments_type') == event_type:\n",
    "            timestamp_str = comments[i].get(\"time_stamp\")\n",
    "            if timestamp_str:\n",
    "                previous_timestamp_sec = parse_timestamp_to_seconds(\n",
    "                    timestamp_str)\n",
    "                if previous_timestamp_sec is not None:\n",
    "                    break  # Found a valid previous timestamp\n",
    "            else:\n",
    "                print(\n",
    "                    f\"Warning: Missing 'time_stamp' for event index {i} while searching for previous event.\")\n",
    "\n",
    "    return previous_timestamp_sec\n",
    "\n",
    "\n",
    "def format_time(seconds):\n",
    "    \"\"\"Converts seconds into HH:MM:SS.ms format for ffmpeg.\"\"\"\n",
    "    if seconds < 0:\n",
    "        seconds = 0\n",
    "    delta = datetime.timedelta(seconds=seconds)\n",
    "    hours, remainder = divmod(delta.seconds, 3600)\n",
    "    minutes, seconds = divmod(remainder, 60)\n",
    "    milliseconds = delta.microseconds // 1000\n",
    "    return f\"{hours:02}:{minutes:02}:{seconds:02}.{milliseconds:03}\"\n",
    "\n",
    "\n",
    "def process_qa_files(qa_dir, match_dir, raw_match_dir, output_dir):\n",
    "    \"\"\"处理所有 QA 文件并计算视频剪辑长度。\"\"\"\n",
    "    qa_files = [f for f in os.listdir(qa_dir) if f.endswith('.json')]\n",
    "    if not qa_files:\n",
    "        print(f\"在目录 {qa_dir} 中未找到 JSON 文件。\")\n",
    "        return []\n",
    "\n",
    "    video_clip_lens = []\n",
    "    print(\"准备剪辑视频长度列表...\")\n",
    "\n",
    "    # 遍历所有 QA 文件\n",
    "    for qa_filename in tqdm(qa_files, desc=\"读取 QA 文件并准备剪辑长度\"):\n",
    "        qa_filepath = os.path.join(qa_dir, qa_filename)\n",
    "        qa_data = load_json(qa_filepath)\n",
    "        if not qa_data:\n",
    "            print(f\"警告：无法加载或空的 QA 文件：{qa_filename}\")\n",
    "            continue\n",
    "\n",
    "        match_name, _ = os.path.splitext(qa_filename)\n",
    "        match_subdir_path = os.path.join(match_dir, match_name)\n",
    "\n",
    "        if not os.path.isdir(match_subdir_path):\n",
    "            print(f\"跳过 {match_name}：未找到比赛数据目录 - {match_subdir_path}\")\n",
    "            continue\n",
    "\n",
    "        match_json_files = [f for f in os.listdir(\n",
    "            match_subdir_path) if f.endswith('.json')]\n",
    "        if not match_json_files:\n",
    "            print(f\"跳过 {match_name}：在 {match_subdir_path} 中未找到 JSON 文件\")\n",
    "            continue\n",
    "        match_filename = match_json_files[0]\n",
    "        match_filepath = os.path.join(match_subdir_path, match_filename)\n",
    "        match_data = load_json(match_filepath)\n",
    "        if not match_data:\n",
    "            print(f\"跳过 {match_name}：比赛数据无效或未找到。\")\n",
    "            continue\n",
    "\n",
    "        raw_match_filename = f\"{match_name.split('_')[1]}_1.mkv\"\n",
    "        raw_match_video_dir = os.path.join(raw_match_dir, match_name)\n",
    "        raw_match_filepath = os.path.join(\n",
    "            raw_match_video_dir, raw_match_filename)\n",
    "\n",
    "        if not os.path.exists(raw_match_filepath):\n",
    "            print(f\"跳过 {match_name}：未找到原始比赛文件 - {raw_match_filepath}\")\n",
    "            continue\n",
    "\n",
    "        match_output_dir = os.path.join(output_dir, match_name)\n",
    "        os.makedirs(match_output_dir, exist_ok=True)\n",
    "\n",
    "        for i, qa_pair in enumerate(qa_data):\n",
    "            event_type = qa_pair.get('event_type')\n",
    "            question_type = qa_pair.get('type')\n",
    "            current_event_index = qa_pair.get('current_event_index')\n",
    "            related_event_indices = qa_pair.get('related_event_index', [])\n",
    "\n",
    "            if event_type is None or current_event_index is None:\n",
    "                continue\n",
    "\n",
    "            current_event_timestamp = get_event_timestamp(\n",
    "                match_data, current_event_index)\n",
    "            if current_event_timestamp is None:\n",
    "                continue\n",
    "\n",
    "            start_time_sec = None\n",
    "            end_time_sec = current_event_timestamp + 15\n",
    "\n",
    "            if question_type in ['past', 'half']:\n",
    "                if not related_event_indices:\n",
    "                    continue\n",
    "                min_related_index = min(related_event_indices)\n",
    "                min_related_event_timestamp = get_event_timestamp(\n",
    "                    match_data, min_related_index)\n",
    "                if min_related_event_timestamp is None:\n",
    "                    continue\n",
    "                start_time_sec = min_related_event_timestamp - 15\n",
    "\n",
    "            elif question_type == 'future':\n",
    "                prev_event_timestamp = find_previous_event_timestamp(\n",
    "                    match_data, current_event_index, event_type)\n",
    "                if prev_event_timestamp is None:\n",
    "                    continue\n",
    "                start_time_sec = prev_event_timestamp - 15\n",
    "            else:\n",
    "                continue  # 跳过未知类型\n",
    "\n",
    "            if start_time_sec is None:\n",
    "                continue\n",
    "\n",
    "            start_time_sec = max(0, start_time_sec)\n",
    "            duration_sec = end_time_sec - start_time_sec\n",
    "\n",
    "            if duration_sec <= 0:  # 检查持续时间是否有效\n",
    "                continue\n",
    "\n",
    "            output_filename = f\"{match_name}_{event_type}_{qa_pair.get('index')}.mp4\"\n",
    "            output_filepath = os.path.join(match_output_dir, output_filename)\n",
    "\n",
    "            # 添加剪辑持续时间到列表\n",
    "            video_clip_lens.append(duration_sec)\n",
    "    return video_clip_lens\n",
    "\n",
    "\n",
    "qa_dir = '/DB/data/jiayuanrao-1/sports/haokai_intern/Dataset/Long-Video-QA/Tiny_QA/First_Half_QA'\n",
    "match_dir = '/DB/data/jiayuanrao-1/sports/haokai_intern/Dataset/Long-Video-QA/Tiny_QA/Subject_Data'\n",
    "raw_match_dir = '/DB/data/jiayuanrao-1/sports/haokai_intern/Dataset/SoccerReplay-1988/Raw_match/england_epl_2017-2018'\n",
    "output_dir = '/DB/data/jiayuanrao-1/sports/haokai_intern/Dataset/Long-Video-QA/Tiny_QA/clips'\n",
    "\n",
    "# 调用 process_qa_files 函数并计算视频剪辑长度\n",
    "video_clip_lens = process_qa_files(\n",
    "    qa_dir, match_dir, raw_match_dir, output_dir)"
   ]
  },
  {
   "cell_type": "code",
   "execution_count": 4,
   "metadata": {},
   "outputs": [],
   "source": [
    "import numpy as np\n",
    "video_clip_lens = np.array(video_clip_lens)"
   ]
  },
  {
   "cell_type": "code",
   "execution_count": 7,
   "metadata": {},
   "outputs": [
    {
     "data": {
      "text/plain": [
       "(array([415.,  48.,  38.,  33.,  38.,  29.,  32.,   9.,  18.,   1.,  11.,\n",
       "         10.,  10.,   7.,   3.,   3.,   6.,   0.,   3.,   3.]),\n",
       " array([   8.  ,  128.15,  248.3 ,  368.45,  488.6 ,  608.75,  728.9 ,\n",
       "         849.05,  969.2 , 1089.35, 1209.5 , 1329.65, 1449.8 , 1569.95,\n",
       "        1690.1 , 1810.25, 1930.4 , 2050.55, 2170.7 , 2290.85, 2411.  ]),\n",
       " <BarContainer object of 20 artists>)"
      ]
     },
     "execution_count": 7,
     "metadata": {},
     "output_type": "execute_result"
    },
    {
     "data": {
      "image/png": "[encoded data removed]",
      "text/plain": [
       "<Figure size 640x480 with 1 Axes>"
      ]
     },
     "metadata": {},
     "output_type": "display_data"
    }
   ],
   "source": [
    "import matplotlib.pyplot as plt\n",
    "%matplotlib inline\n",
    "plt.hist(video_clip_lens, bins=20)"
   ]
  },
  {
   "cell_type": "code",
   "execution_count": 10,
   "metadata": {},
   "outputs": [
    {
     "data": {
      "text/plain": [
       "np.int64(360)"
      ]
     },
     "execution_count": 10,
     "metadata": {},
     "output_type": "execute_result"
    }
   ],
   "source": [
    "sum(np.where(video_clip_lens==30, 1, 0))"
   ]
  },
  {
   "cell_type": "markdown",
   "metadata": {},
   "source": [
    "### end"
   ]
  },
  {
   "cell_type": "code",
   "execution_count": 5,
   "metadata": {},
   "outputs": [
    {
     "name": "stdout",
     "output_type": "stream",
     "text": [
      "准备剪辑视频长度列表...\n"
     ]
    },
    {
     "name": "stderr",
     "output_type": "stream",
     "text": [
      "读取 QA 文件并准备剪辑长度: 100%|██████████| 57/57 [00:00<00:00, 2088.43it/s]\n"
     ]
    }
   ],
   "source": [
    "import os\n",
    "import json\n",
    "import subprocess\n",
    "import argparse\n",
    "import datetime\n",
    "from tqdm import tqdm\n",
    "import concurrent.futures  # Added for threading\n",
    "\n",
    "\n",
    "def load_json(filepath):\n",
    "    \"\"\"Loads data from a JSON file.\"\"\"\n",
    "    try:\n",
    "        with open(filepath, 'r', encoding='utf-8') as f:\n",
    "            return json.load(f)\n",
    "    except FileNotFoundError:\n",
    "        print(f\"Error: File not found - {filepath}\")\n",
    "        return None\n",
    "    except json.JSONDecodeError:\n",
    "        print(f\"Error: Could not decode JSON from file - {filepath}\")\n",
    "        return None\n",
    "\n",
    "\n",
    "def parse_timestamp_to_seconds(timestamp_str):\n",
    "    \"\"\"Converts MM:SS timestamp string to total seconds.\"\"\"\n",
    "    try:\n",
    "        minutes, seconds = map(int, timestamp_str.split(':'))\n",
    "        return minutes * 60 + seconds\n",
    "    except ValueError:\n",
    "        print(\n",
    "            f\"Error: Invalid timestamp format - {timestamp_str}. Expected MM:SS.\")\n",
    "        return None\n",
    "\n",
    "\n",
    "def get_event_timestamp(match_data, event_index):\n",
    "    \"\"\"Retrieves the timestamp (in seconds) for a given event index.\"\"\"\n",
    "    if match_data and 0 <= event_index < len(match_data.get('comments', [])):\n",
    "        timestamp_str = match_data['comments'][event_index].get('time_stamp')\n",
    "        if timestamp_str:\n",
    "            return parse_timestamp_to_seconds(timestamp_str)\n",
    "    return None\n",
    "\n",
    "\n",
    "def find_previous_event_timestamp(match_data, current_index, event_type):\n",
    "    \"\"\"Finds the timestamp (in seconds) of the previous event of the same type.\"\"\"\n",
    "    if not match_data or not match_data.get('comments'):\n",
    "        return None\n",
    "    previous_timestamp_sec = None\n",
    "    comments = match_data.get('comments', [])\n",
    "    for i in range(current_index - 1, -1, -1):\n",
    "        if i < len(comments) and comments[i].get('comments_type') == event_type:\n",
    "            timestamp_str = comments[i].get(\"time_stamp\")\n",
    "            if timestamp_str:\n",
    "                previous_timestamp_sec = parse_timestamp_to_seconds(\n",
    "                    timestamp_str)\n",
    "                if previous_timestamp_sec is not None:\n",
    "                    break  # Found a valid previous timestamp\n",
    "            else:\n",
    "                print(\n",
    "                    f\"Warning: Missing 'time_stamp' for event index {i} while searching for previous event.\")\n",
    "\n",
    "    return previous_timestamp_sec\n",
    "\n",
    "\n",
    "def format_time(seconds):\n",
    "    \"\"\"Converts seconds into HH:MM:SS.ms format for ffmpeg.\"\"\"\n",
    "    if seconds < 0:\n",
    "        seconds = 0\n",
    "    delta = datetime.timedelta(seconds=seconds)\n",
    "    hours, remainder = divmod(delta.seconds, 3600)\n",
    "    minutes, seconds = divmod(remainder, 60)\n",
    "    milliseconds = delta.microseconds // 1000\n",
    "    return f\"{hours:02}:{minutes:02}:{seconds:02}.{milliseconds:03}\"\n",
    "\n",
    "\n",
    "def process_qa_files(qa_dir, match_dir, raw_match_dir, output_dir):\n",
    "    \"\"\"处理所有 QA 文件并计算视频剪辑长度。\"\"\"\n",
    "    qa_files = [f for f in os.listdir(qa_dir) if f.endswith('.json')]\n",
    "    if not qa_files:\n",
    "        print(f\"在目录 {qa_dir} 中未找到 JSON 文件。\")\n",
    "        return []\n",
    "\n",
    "    video_clip_lens = []\n",
    "    print(\"准备剪辑视频长度列表...\")\n",
    "\n",
    "    # 遍历所有 QA 文件\n",
    "    for qa_filename in tqdm(qa_files, desc=\"读取 QA 文件并准备剪辑长度\"):\n",
    "        qa_filepath = os.path.join(qa_dir, qa_filename)\n",
    "        qa_data = load_json(qa_filepath)\n",
    "        if not qa_data:\n",
    "            print(f\"警告：无法加载或空的 QA 文件：{qa_filename}\")\n",
    "            continue\n",
    "\n",
    "        match_name, _ = os.path.splitext(qa_filename)\n",
    "        match_subdir_path = os.path.join(match_dir, match_name)\n",
    "\n",
    "        if not os.path.isdir(match_subdir_path):\n",
    "            print(f\"跳过 {match_name}：未找到比赛数据目录 - {match_subdir_path}\")\n",
    "            continue\n",
    "\n",
    "        match_json_files = [f for f in os.listdir(\n",
    "            match_subdir_path) if f.endswith('.json')]\n",
    "        if not match_json_files:\n",
    "            print(f\"跳过 {match_name}：在 {match_subdir_path} 中未找到 JSON 文件\")\n",
    "            continue\n",
    "        match_filename = match_json_files[0]\n",
    "        match_filepath = os.path.join(match_subdir_path, match_filename)\n",
    "        match_data = load_json(match_filepath)\n",
    "        if not match_data:\n",
    "            print(f\"跳过 {match_name}：比赛数据无效或未找到。\")\n",
    "            continue\n",
    "\n",
    "        raw_match_filename = f\"{match_name.split('_')[1]}_1.mkv\"\n",
    "        raw_match_video_dir = os.path.join(raw_match_dir, match_name)\n",
    "        raw_match_filepath = os.path.join(\n",
    "            raw_match_video_dir, raw_match_filename)\n",
    "\n",
    "        if not os.path.exists(raw_match_filepath):\n",
    "            print(f\"跳过 {match_name}：未找到原始比赛文件 - {raw_match_filepath}\")\n",
    "            continue\n",
    "\n",
    "        match_output_dir = os.path.join(output_dir, match_name)\n",
    "        os.makedirs(match_output_dir, exist_ok=True)\n",
    "\n",
    "        for i, qa_pair in enumerate(qa_data):\n",
    "            event_type = qa_pair.get('event_type')\n",
    "            question_type = qa_pair.get('type')\n",
    "            current_event_index = qa_pair.get('current_event_index')\n",
    "            related_event_indices = qa_pair.get('related_event_index', [])\n",
    "\n",
    "            if event_type is None or current_event_index is None:\n",
    "                continue\n",
    "\n",
    "            current_event_timestamp = get_event_timestamp(\n",
    "                match_data, current_event_index)\n",
    "            if current_event_timestamp is None:\n",
    "                continue\n",
    "\n",
    "            start_time_sec = None\n",
    "            end_time_sec = current_event_timestamp + 15\n",
    "\n",
    "            if question_type in ['past', 'half']:\n",
    "                if not related_event_indices:\n",
    "                    continue\n",
    "                min_related_index = min(related_event_indices)\n",
    "                min_related_event_timestamp = get_event_timestamp(\n",
    "                    match_data, min_related_index)\n",
    "                if min_related_event_timestamp is None:\n",
    "                    continue\n",
    "                start_time_sec = min_related_event_timestamp - 15\n",
    "\n",
    "            elif question_type == 'future':\n",
    "                prev_event_timestamp = find_previous_event_timestamp(\n",
    "                    match_data, current_event_index, event_type)\n",
    "                if prev_event_timestamp is None:\n",
    "                    continue\n",
    "                start_time_sec = prev_event_timestamp - 15\n",
    "            else:\n",
    "                continue  # 跳过未知类型\n",
    "\n",
    "            if start_time_sec is None:\n",
    "                continue\n",
    "\n",
    "            start_time_sec = max(0, start_time_sec)\n",
    "            duration_sec = end_time_sec - start_time_sec\n",
    "\n",
    "            if duration_sec <= 0:  # 检查持续时间是否有效\n",
    "                continue\n",
    "\n",
    "            output_filename = f\"{match_name}_{event_type}_{qa_pair.get('index')}.mp4\"\n",
    "            output_filepath = os.path.join(match_output_dir, output_filename)\n",
    "\n",
    "            # 添加剪辑持续时间到列表\n",
    "            video_clip_lens.append(end_time_sec)\n",
    "    return video_clip_lens\n",
    "\n",
    "\n",
    "qa_dir = './First_Half_QA'\n",
    "match_dir = './Subject_Data'\n",
    "raw_match_dir = '../../SoccerReplay-1988/Raw_match/england_epl_2017-2018'\n",
    "output_dir = './clips'\n",
    "\n",
    "# 调用 process_qa_files 函数并计算视频剪辑长度\n",
    "video_clip_lens = process_qa_files(\n",
    "    qa_dir, match_dir, raw_match_dir, output_dir)"
   ]
  },
  {
   "cell_type": "code",
   "execution_count": 6,
   "metadata": {},
   "outputs": [
    {
     "data": {
      "text/plain": [
       "(array([35., 38., 71., 16., 34., 54., 28., 61., 41., 37., 55., 26., 42.,\n",
       "        33., 34., 37., 34., 10., 12., 19.]),\n",
       " array([  53. ,  189.6,  326.2,  462.8,  599.4,  736. ,  872.6, 1009.2,\n",
       "        1145.8, 1282.4, 1419. , 1555.6, 1692.2, 1828.8, 1965.4, 2102. ,\n",
       "        2238.6, 2375.2, 2511.8, 2648.4, 2785. ]),\n",
       " <BarContainer object of 20 artists>)"
      ]
     },
     "execution_count": 6,
     "metadata": {},
     "output_type": "execute_result"
    },
    {
     "data": {
      "image/png": "[encoded data removed]",
      "text/plain": [
       "<Figure size 640x480 with 1 Axes>"
      ]
     },
     "metadata": {},
     "output_type": "display_data"
    }
   ],
   "source": [
    "import matplotlib.pyplot as plt\n",
    "%matplotlib inline\n",
    "plt.hist(video_clip_lens, bins=20)"
   ]
  },
  {
   "cell_type": "markdown",
   "metadata": {},
   "source": [
    "## 处理clips"
   ]
  },
  {
   "cell_type": "markdown",
   "metadata": {},
   "source": [
    "### 查看原本视频分辨率"
   ]
  },
  {
   "cell_type": "code",
   "execution_count": 8,
   "metadata": {},
   "outputs": [
    {
     "data": {
      "text/plain": [
       "(640.0, 360.0)"
      ]
     },
     "execution_count": 8,
     "metadata": {},
     "output_type": "execute_result"
    }
   ],
   "source": [
    "# 查看/DB/data/jiayuanrao-1/sports/haokai_intern/Dataset/Long-Video-QA/Tiny_QA/clips/2017-08-12_watford-fc-liverpool-fc/2017-08-12_watford-fc-liverpool-fc_corner_0.mp4视频分辨率\n",
    "import cv2\n",
    "video_path = '/DB/data/jiayuanrao-1/sports/haokai_intern/Dataset/Long-Video-QA/Tiny_QA/clips/2018-03-31_everton-fc-manchester-city-premier-league/2018-03-31_everton-fc-manchester-city-premier-league_goal_3.mp4'\n",
    "cap = cv2.VideoCapture(video_path)\n",
    "width = cap.get(cv2.CAP_PROP_FRAME_WIDTH)\n",
    "height = cap.get(cv2.CAP_PROP_FRAME_HEIGHT)\n",
    "width, height"
   ]
  },
  {
   "cell_type": "markdown",
   "metadata": {},
   "source": [
    "### 查看resize后视频"
   ]
  },
  {
   "cell_type": "markdown",
   "metadata": {},
   "source": [
    "#### 分辨率"
   ]
  },
  {
   "cell_type": "code",
   "execution_count": 5,
   "metadata": {},
   "outputs": [
    {
     "data": {
      "text/plain": [
       "(224.0, 224.0)"
      ]
     },
     "execution_count": 5,
     "metadata": {},
     "output_type": "execute_result"
    }
   ],
   "source": [
    "# 查看/DB/data/jiayuanrao-1/sports/haokai_intern/Dataset/Long-Video-QA/Tiny_QA/clips/2017-08-12_watford-fc-liverpool-fc/2017-08-12_watford-fc-liverpool-fc_corner_0.mp4视频分辨率\n",
    "import cv2\n",
    "video_path = '/DB/data/jiayuanrao-1/sports/haokai_intern/Dataset/Long-Video-QA/Tiny_QA/clips_resized/2018-03-31_everton-fc-manchester-city-premier-league/2018-03-31_everton-fc-manchester-city-premier-league_goal_3.mp4'\n",
    "cap = cv2.VideoCapture(video_path)\n",
    "width = cap.get(cv2.CAP_PROP_FRAME_WIDTH)\n",
    "height = cap.get(cv2.CAP_PROP_FRAME_HEIGHT)\n",
    "width, height"
   ]
  },
  {
   "cell_type": "markdown",
   "metadata": {},
   "source": [
    "#### 数量是否正确"
   ]
  },
  {
   "cell_type": "code",
   "execution_count": 8,
   "metadata": {},
   "outputs": [
    {
     "data": {
      "text/plain": [
       "1428"
      ]
     },
     "execution_count": 8,
     "metadata": {},
     "output_type": "execute_result"
    }
   ],
   "source": [
    "# 递归查看文件夹下mp4文件数量\n",
    "import os\n",
    "path = './clips_resized/'\n",
    "count = 0\n",
    "for root, dirs, files in os.walk(path):\n",
    "    for file in files:\n",
    "        if file.endswith('.mp4'):\n",
    "            count += 1\n",
    "            \n",
    "count   "
   ]
  },
  {
   "cell_type": "markdown",
   "metadata": {},
   "source": [
    "#### 文件是否损坏"
   ]
  },
  {
   "cell_type": "code",
   "execution_count": 9,
   "metadata": {},
   "outputs": [
    {
     "data": {
      "text/plain": [
       "[]"
      ]
     },
     "execution_count": 9,
     "metadata": {},
     "output_type": "execute_result"
    }
   ],
   "source": [
    "# 写代码查看./clips_resized文件夹下mp4文件有没有大小为0的文件\n",
    "\n",
    "import os\n",
    "import cv2\n",
    "def check_zero_size_mp4_files(directory):\n",
    "    zero_size_files = []\n",
    "    for root, dirs, files in os.walk(directory):\n",
    "        for file in files:\n",
    "            if file.endswith('.mp4'):\n",
    "                file_path = os.path.join(root, file)\n",
    "                file_size = os.path.getsize(file_path)\n",
    "                if file_size == 0:\n",
    "                    zero_size_files.append(file_path)\n",
    "                    continue\n",
    "    return zero_size_files\n",
    "\n",
    "directory = './clips_resized'\n",
    "check_zero_size_mp4_files(directory)"
   ]
  },
  {
   "cell_type": "markdown",
   "metadata": {},
   "source": [
    "#### 能否正确读取"
   ]
  },
  {
   "cell_type": "code",
   "execution_count": 10,
   "metadata": {},
   "outputs": [],
   "source": [
    "import cv2\n",
    "video_path = './clips_resized_new/2018-02-11_huddersfield-town-afc-bournemouth/2018-02-11_huddersfield-town-afc-bournemouth_corner_0.mp4'\n",
    "cap = cv2.VideoCapture(video_path)"
   ]
  },
  {
   "cell_type": "markdown",
   "metadata": {},
   "source": [
    "### 查看再次筛选过的视频"
   ]
  },
  {
   "cell_type": "markdown",
   "metadata": {},
   "source": [
    "#### 数量"
   ]
  },
  {
   "cell_type": "code",
   "execution_count": 10,
   "metadata": {},
   "outputs": [
    {
     "data": {
      "text/plain": [
       "188"
      ]
     },
     "execution_count": 10,
     "metadata": {},
     "output_type": "execute_result"
    }
   ],
   "source": [
    "# 递归查看文件夹下mp4文件数量\n",
    "import os\n",
    "path = './clips/tiny_clips_resized/'\n",
    "count = 0\n",
    "for root, dirs, files in os.walk(path):\n",
    "    for file in files:\n",
    "        if file.endswith('.mp4'):\n",
    "            count += 1\n",
    "            \n",
    "count   "
   ]
  },
  {
   "cell_type": "markdown",
   "metadata": {},
   "source": [
    "### 根据tiny数据集clip构建QA对"
   ]
  },
  {
   "cell_type": "markdown",
   "metadata": {},
   "source": [
    "#### 操作"
   ]
  },
  {
   "cell_type": "code",
   "execution_count": 7,
   "metadata": {},
   "outputs": [],
   "source": [
    "import os\n",
    "\n",
    "def extract_qa_for_sampled_clips(qa_dir, tiny_clips_dir, output_base_dir):\n",
    "    for match in os.listdir(tiny_clips_dir):\n",
    "        new_qa = []\n",
    "        qa_file_path = os.path.join(qa_dir, match + '.json')\n",
    "        if not os.path.exists(qa_file_path):\n",
    "            print(f\"QA file not found for match: {match}\")\n",
    "            continue\n",
    "        with open(qa_file_path, 'r', encoding='utf-8') as f:\n",
    "            qa_data = json.load(f)\n",
    "            for clip in os.listdir(os.path.join(tiny_clips_dir, match)):\n",
    "                *_, event_type, index = os.path.splitext(clip)[0].split('_')\n",
    "                for qa in qa_data:\n",
    "                    if qa['event_type'] == event_type and qa['index'] == int(index):\n",
    "                        new_qa.append(qa)\n",
    "        with open(os.path.join(output_base_dir, match + '.json'), 'w', encoding='utf-8') as f:\n",
    "            json.dump(new_qa, f, ensure_ascii=False, indent=2)\n",
    "\n",
    "qa_dir = './First_Half_QA'\n",
    "tiny_clips_dir = './clips/tiny_clips_resized/'\n",
    "output_base_dir = './Tiny_First_Half_QA'\n",
    "extract_qa_for_sampled_clips(qa_dir, tiny_clips_dir, output_base_dir)\n"
   ]
  },
  {
   "cell_type": "markdown",
   "metadata": {},
   "source": [
    "#### 检查"
   ]
  },
  {
   "cell_type": "code",
   "execution_count": 11,
   "metadata": {},
   "outputs": [
    {
     "data": {
      "text/plain": [
       "188"
      ]
     },
     "execution_count": 11,
     "metadata": {},
     "output_type": "execute_result"
    }
   ],
   "source": [
    "import os\n",
    "count = 0\n",
    "for qa in os.listdir('./Tiny_First_Half_QA'):\n",
    "    with open(os.path.join('./Tiny_First_Half_QA', qa), 'r', encoding='utf-8') as f:\n",
    "        data = json.load(f)\n",
    "        count += len(data)\n",
    "count\n"
   ]
  },
  {
   "cell_type": "code",
   "execution_count": 15,
   "metadata": {},
   "outputs": [
    {
     "data": {
      "text/plain": [
       "576"
      ]
     },
     "execution_count": 15,
     "metadata": {},
     "output_type": "execute_result"
    }
   ],
   "source": [
    "import math\n",
    "\n",
    "def smart_nframes(total_frames, video_fps, fps=1.0, min_frames=4, max_frames=576, frame_factor=2):\n",
    "    \"\"\"Calculate the number of frames that should be extracted from the video\n",
    "\n",
    "    Args:\n",
    "        total_frames: Total number of frames in the video\n",
    "        video_fps: Original video frame rate\n",
    "        fps: Target frame rate for extraction, default 1.0\n",
    "        min_frames: Minimum number of frames, default 4\n",
    "        max_frames: Maximum number of frames, default 576\n",
    "        frame_factor: Frame factor to make frame count a multiple of this value, default 2\n",
    "\n",
    "    Returns:\n",
    "        int: Calculated number of frames to extract\n",
    "    \"\"\"\n",
    "    # Round up to multiple of frame_factor\n",
    "    def ceil_by_factor(n, f): return math.ceil(n / f) * f\n",
    "    # Round down to multiple of frame_factor \n",
    "    def floor_by_factor(n, f): return math.floor(n / f) * f\n",
    "    # Round to nearest multiple of frame_factor\n",
    "    def round_by_factor(n, f): return round(n / f) * f\n",
    "\n",
    "    # Calculate ideal frame count based on target fps\n",
    "    nframes = total_frames / video_fps * fps\n",
    "\n",
    "    # Ensure frame count is within limits\n",
    "    min_frames = ceil_by_factor(min_frames, frame_factor)\n",
    "    max_frames = min(floor_by_factor(max_frames, frame_factor), total_frames) \n",
    "    nframes = min(min(max(nframes, min_frames), max_frames), total_frames)\n",
    "    nframes = floor_by_factor(nframes, frame_factor)\n",
    "\n",
    "    # Ensure result is within valid range\n",
    "    if not (frame_factor <= nframes and nframes <= total_frames):\n",
    "        nframes = max(frame_factor, min(total_frames, nframes))\n",
    "        nframes = floor_by_factor(nframes, frame_factor)\n",
    "\n",
    "    return int(nframes)\n",
    "\n",
    "\n",
    "total_frames = 2400\n",
    "video_fps = 1\n",
    "smart_nframes(total_frames, video_fps)"
   ]
  },
  {
   "cell_type": "markdown",
   "metadata": {},
   "source": [
    "## 有关QA"
   ]
  },
  {
   "cell_type": "markdown",
   "metadata": {},
   "source": [
    "### 测试shuffle功能"
   ]
  },
  {
   "cell_type": "code",
   "execution_count": 1,
   "metadata": {},
   "outputs": [
    {
     "data": {
      "text/plain": [
       "(['A. No', 'B. Yes'], 'B')"
      ]
     },
     "execution_count": 1,
     "metadata": {},
     "output_type": "execute_result"
    }
   ],
   "source": [
    "from collections import Counter\n",
    "import random\n",
    "\n",
    "\n",
    "def evaluate_single_qa(qa, shuffle_choices=True, shuffle_times=4):\n",
    "    \"\"\"\n",
    "    Evaluate a single QA pair with optional choice shuffling and voting.\n",
    "\n",
    "    Args:\n",
    "        qa (dict): The QA dictionary containing question, choices, answer, etc.\n",
    "        shuffle_choices (bool): Whether to shuffle the choices during evaluation.\n",
    "        shuffle_times (int): Number of times to shuffle the choices for voting.\n",
    "\n",
    "    Returns:\n",
    "        dict: Evaluation result including model answers, correctness, and optionally shuffle results.\n",
    "    \"\"\"\n",
    "    answers = []\n",
    "    correct_count = 0\n",
    "\n",
    "    if not shuffle_choices:\n",
    "        # Simulate model answering without shuffling\n",
    "        model_answer = \"A\"  # Replace this with actual model inference logic\n",
    "        correct = model_answer == qa['answer']\n",
    "\n",
    "        return {\n",
    "            'model_answer': model_answer,\n",
    "            'correct': correct\n",
    "        }\n",
    "    else:\n",
    "        # Shuffle choices multiple times and simulate model answering\n",
    "        original_choices = qa['choices'][:]\n",
    "        for seed in range(shuffle_times):\n",
    "            shuffled_choices = original_choices.copy()\n",
    "            random.Random(seed).shuffle(shuffled_choices)\n",
    "\n",
    "            # Build label mapping from original labels (e.g., A/B/C/D) to new positions\n",
    "            label_map = {}\n",
    "            for idx, choice in enumerate(shuffled_choices):\n",
    "                # Extract the original label (A, B, C, D)\n",
    "                original_label = choice[0]\n",
    "                new_label = chr(ord('A') + idx)\n",
    "                label_map[original_label] = new_label\n",
    "\n",
    "            # Update the correct answer based on the shuffled order\n",
    "            shuffled_answer = label_map[qa['answer']]\n",
    "\n",
    "            # Reassign labels A/B/C/D to the shuffled options\n",
    "            new_choices = [f\"{chr(ord('A') + i)}. {c[3:]}\" for i,\n",
    "                           c in enumerate(shuffled_choices)]\n",
    "\n",
    "        return new_choices, shuffled_answer\n",
    "\n",
    "\n",
    "# 示例 QA 数据\n",
    "qa_example = {\n",
    "    \"question\": \"Will there be more corners in the first half?\",\n",
    "    \"choices\": [\n",
    "        \"A. Yes\",\n",
    "        \"B. No\"\n",
    "    ],\n",
    "    \"answer\": \"A\",\n",
    "    \"type\": \"future\",\n",
    "    \"question_level\": \"match\",\n",
    "    \"related_event_index\": [6, 7],\n",
    "    \"current_event_index\": 0,\n",
    "    \"index\": 3,\n",
    "    \"event_type\": \"corner\"\n",
    "}\n",
    "\n",
    "# 测试调用\n",
    "result = evaluate_single_qa(qa_example, shuffle_choices=True, shuffle_times=4)\n",
    "result"
   ]
  },
  {
   "cell_type": "markdown",
   "metadata": {},
   "source": [
    "### 统计30s以上QA的结果"
   ]
  },
  {
   "cell_type": "code",
   "execution_count": 3,
   "metadata": {},
   "outputs": [
    {
     "name": "stdout",
     "output_type": "stream",
     "text": [
      "读取结果文件: ./evaluate/VLM/evaluation_output/qwen_full_shuffle/shuffle_results.json\n",
      "使用视频目录检查视频长度: ./clips/clips_resized/\n"
     ]
    },
    {
     "name": "stderr",
     "output_type": "stream",
     "text": [
      "过滤30秒视频的QA对: 100%|██████████| 1428/1428 [00:02<00:00, 502.43it/s]\n"
     ]
    },
    {
     "name": "stdout",
     "output_type": "stream",
     "text": [
      "原始QA对数量: 1428\n",
      "过滤后QA对数量: 866\n",
      "过滤后的原始结果已保存到: ./evaluate/VLM/evaluation_output/qwen_full_shuffle/filtered_results/filtered_shuffle_results.json\n",
      "计算统计信息...\n"
     ]
    },
    {
     "name": "stderr",
     "output_type": "stream",
     "text": [
      "处理统计信息: 100%|██████████| 866/866 [00:00<00:00, 66637.32it/s]\n"
     ]
    },
    {
     "name": "stdout",
     "output_type": "stream",
     "text": [
      "过滤后的统计结果已保存到: ./evaluate/VLM/evaluation_output/qwen_full_shuffle/filtered_results/filtered_evaluation_results.json\n",
      "统计摘要已保存到: ./evaluate/VLM/evaluation_output/qwen_full_shuffle/filtered_results/filtered_statistics.txt\n",
      "过滤后的统计摘要已保存到: ./evaluate/VLM/evaluation_output/qwen_full_shuffle/filtered_results/filtered_statistics.txt\n"
     ]
    }
   ],
   "source": [
    "def filter_and_recalculate_stats(json_file_path, output_dir=None, video_clip_dir=None, min_duration=30):\n",
    "    \"\"\"\n",
    "    过滤掉指定秒数以下的视频的QA对，重新计算统计结果\n",
    "    \n",
    "    Args:\n",
    "        json_file_path: shuffle_results.json文件路径\n",
    "        output_dir: 输出目录，默认为原文件所在目录下的filtered_results\n",
    "        video_clip_dir: 视频剪辑目录，用于检查视频长度（如果提供）\n",
    "        min_duration: 视频时长的最小阈值（秒），默认30秒\n",
    "    \"\"\"\n",
    "    print(f\"读取结果文件: {json_file_path}\")\n",
    "\n",
    "    # 读取原始结果\n",
    "    with open(json_file_path, 'r', encoding='utf-8') as f:\n",
    "        results = json.load(f)\n",
    "\n",
    "    # 如果未指定输出目录，则在原文件所在目录下创建filtered_results\n",
    "    if output_dir is None:\n",
    "        output_dir = os.path.join(os.path.dirname(\n",
    "            json_file_path), \"filtered_results\")\n",
    "    os.makedirs(output_dir, exist_ok=True)\n",
    "\n",
    "    # 初始化过滤后的结果列表\n",
    "    filtered_results = []\n",
    "\n",
    "    # 如果提供了视频目录，我们将通过查看实际视频文件来确定长度\n",
    "    if video_clip_dir and os.path.isdir(video_clip_dir):\n",
    "        import cv2\n",
    "        print(f\"使用视频目录检查视频长度: {video_clip_dir}\")\n",
    "\n",
    "        # 遍历所有QA对\n",
    "        for qa_item in tqdm(results, desc=\"过滤30秒视频的QA对\"):\n",
    "            match_id = qa_item[\"match_id\"]\n",
    "            event_type = qa_item[\"event_type\"]\n",
    "            qa_index = qa_item[\"index\"]\n",
    "\n",
    "            # 构建视频路径\n",
    "            video_filename = f\"{match_id}_{event_type}_{qa_index}.mp4\"\n",
    "            video_path = os.path.join(video_clip_dir, match_id, video_filename)\n",
    "\n",
    "            # 检查视频是否存在，如果存在则检查长度\n",
    "            is_short_video = False\n",
    "            if os.path.exists(video_path):\n",
    "                video = cv2.VideoCapture(video_path)\n",
    "                fps = video.get(cv2.CAP_PROP_FPS)\n",
    "                frame_count = int(video.get(cv2.CAP_PROP_FRAME_COUNT))\n",
    "                duration = frame_count / fps\n",
    "                video.release()\n",
    "\n",
    "                # 如果视频长度接近30秒（考虑一些误差），则标记为30秒视频\n",
    "                is_short_video = duration <= min_duration+0.5\n",
    "\n",
    "            # 如果不是30秒视频，则添加到过滤后的列表中\n",
    "            if not is_short_video:\n",
    "                filtered_results.append(qa_item)\n",
    "\n",
    "    print(f\"原始QA对数量: {len(results)}\")\n",
    "    print(f\"过滤后QA对数量: {len(filtered_results)}\")\n",
    "\n",
    "    # 保存过滤后的原始结果\n",
    "    filtered_results_path = os.path.join(\n",
    "        output_dir, \"filtered_shuffle_results.json\")\n",
    "    with open(filtered_results_path, 'w', encoding='utf-8') as f:\n",
    "        json.dump(filtered_results, f, ensure_ascii=False, indent=2)\n",
    "    print(f\"过滤后的原始结果已保存到: {filtered_results_path}\")\n",
    "\n",
    "    # 计算统计信息\n",
    "    results_vote, results_all = calculate_statistics(filtered_results)\n",
    "\n",
    "    # 保存统计结果\n",
    "    stats_results = {\n",
    "        'vote': results_vote,\n",
    "        'all': results_all\n",
    "    }\n",
    "\n",
    "    stats_json_path = os.path.join(\n",
    "        output_dir, \"filtered_evaluation_results.json\")\n",
    "    with open(stats_json_path, 'w', encoding='utf-8') as f:\n",
    "        json.dump(stats_results, f, ensure_ascii=False, indent=2)\n",
    "    print(f\"过滤后的统计结果已保存到: {stats_json_path}\")\n",
    "\n",
    "    # 保存可读性更好的统计文本\n",
    "    stats_txt_path = os.path.join(output_dir, \"filtered_statistics.txt\")\n",
    "    save_statistics_txt(stats_results, stats_txt_path)\n",
    "    print(f\"过滤后的统计摘要已保存到: {stats_txt_path}\")\n",
    "\n",
    "    return\n",
    "\n",
    "\n",
    "def calculate_statistics(model_answers):\n",
    "    \"\"\"计算投票和全部结果的统计信息\"\"\"\n",
    "    # 初始化投票统计和全部统计结果字典\n",
    "    results_vote = {\n",
    "        'overall': {'correct': 0, 'total': 0},\n",
    "        'by_event_type': defaultdict(lambda: {'correct': 0, 'total': 0}),\n",
    "        'by_question_type': defaultdict(lambda: {'correct': 0, 'total': 0}),\n",
    "        'by_question_level': defaultdict(lambda: {'correct': 0, 'total': 0})\n",
    "    }\n",
    "\n",
    "    results_all = {\n",
    "        'overall': {'correct': 0, 'total': 0},\n",
    "        'by_event_type': defaultdict(lambda: {'correct': 0, 'total': 0}),\n",
    "        'by_question_type': defaultdict(lambda: {'correct': 0, 'total': 0}),\n",
    "        'by_question_level': defaultdict(lambda: {'correct': 0, 'total': 0})\n",
    "    }\n",
    "\n",
    "    # 遍历所有QA对\n",
    "    print(\"计算统计信息...\")\n",
    "    for answer in tqdm(model_answers, desc=\"处理统计信息\"):\n",
    "        event_type = answer[\"event_type\"]\n",
    "        qa_type = answer[\"type\"]\n",
    "        question_level = answer[\"question_level\"]\n",
    "\n",
    "        # 计算投票结果\n",
    "        from collections import Counter\n",
    "        vote_content = Counter(\n",
    "            answer[\"shuffle_model_answer_contents\"]).most_common(1)[0][0]\n",
    "        vote_correct = (vote_content == answer[\"shuffle_correct_contents\"][-1])\n",
    "\n",
    "        # 更新投票统计\n",
    "        results_vote['overall']['total'] += 1\n",
    "        results_vote['by_event_type'][event_type]['total'] += 1\n",
    "        results_vote['by_question_type'][qa_type]['total'] += 1\n",
    "        results_vote['by_question_level'][question_level]['total'] += 1\n",
    "\n",
    "        if vote_correct:\n",
    "            results_vote['overall']['correct'] += 1\n",
    "            results_vote['by_event_type'][event_type]['correct'] += 1\n",
    "            results_vote['by_question_type'][qa_type]['correct'] += 1\n",
    "            results_vote['by_question_level'][question_level]['correct'] += 1\n",
    "\n",
    "        # 计算所有轮次的结果\n",
    "        for i, (model_content, correct_content) in enumerate(\n",
    "                zip(answer[\"shuffle_model_answer_contents\"], answer[\"shuffle_correct_contents\"])):\n",
    "\n",
    "            results_all['overall']['total'] += 1\n",
    "            results_all['by_event_type'][event_type]['total'] += 1\n",
    "            results_all['by_question_type'][qa_type]['total'] += 1\n",
    "            results_all['by_question_level'][question_level]['total'] += 1\n",
    "\n",
    "            if model_content == correct_content:\n",
    "                results_all['overall']['correct'] += 1\n",
    "                results_all['by_event_type'][event_type]['correct'] += 1\n",
    "                results_all['by_question_type'][qa_type]['correct'] += 1\n",
    "                results_all['by_question_level'][question_level]['correct'] += 1\n",
    "\n",
    "    return results_vote, results_all\n",
    "\n",
    "\n",
    "def save_statistics_txt(results, filename):\n",
    "    \"\"\"将统计结果保存为易读的文本格式\"\"\"\n",
    "    try:\n",
    "        with open(filename, 'w', encoding='utf-8') as f:\n",
    "            def calc_accuracy(stats):\n",
    "                if isinstance(stats, dict) and 'correct' in stats and 'total' in stats and stats['total'] > 0:\n",
    "                    return (stats['correct'] / stats['total'] * 100)\n",
    "                return 0.0\n",
    "\n",
    "            def get_counts(stats):\n",
    "                if isinstance(stats, dict) and 'correct' in stats and 'total' in stats:\n",
    "                    return f\"({stats.get('correct', 0)}/{stats.get('total', 0)})\"\n",
    "                return \"(0/0)\"\n",
    "\n",
    "            f.write(f\"=== 过滤后的评估统计 ===\\n\\n\")\n",
    "\n",
    "            for mode in ['vote', 'all']:\n",
    "                mode_name = \"Vote (投票)\" if mode == 'vote' else \"All (所有轮次)\"\n",
    "                f.write(f\"--- {mode_name} ---\\n\")\n",
    "                mode_results = results[mode]\n",
    "\n",
    "                overall_stats = mode_results.get('overall', {})\n",
    "                overall_acc = calc_accuracy(overall_stats)\n",
    "                f.write(\n",
    "                    f\"Overall Accuracy: {overall_acc:.2f}% {get_counts(overall_stats)}\\n\\n\")\n",
    "\n",
    "                f.write(\"--- Results by Event Type ---\\n\")\n",
    "                event_type_results = mode_results.get(\n",
    "                    'by_event_type', {})\n",
    "                if event_type_results:\n",
    "                    for event_key in sorted(event_type_results.keys()):\n",
    "                        stats = event_type_results[event_key]\n",
    "                        acc = calc_accuracy(stats)\n",
    "                        f.write(\n",
    "                            f\"{event_key}: {acc:.2f}% {get_counts(stats)}\\n\")\n",
    "                else:\n",
    "                    f.write(\"No data available.\\n\")\n",
    "                f.write(\"\\n\")\n",
    "\n",
    "                f.write(\"--- Results by Question Type ---\\n\")\n",
    "                q_type_results = mode_results.get(\n",
    "                    'by_question_type', {})\n",
    "                if q_type_results:\n",
    "                    for qtype in sorted(q_type_results.keys()):\n",
    "                        stats = q_type_results[qtype]\n",
    "                        acc = calc_accuracy(stats)\n",
    "                        f.write(\n",
    "                            f\"{qtype.capitalize()}: {acc:.2f}% {get_counts(stats)}\\n\")\n",
    "                else:\n",
    "                    f.write(\"No data available.\\n\")\n",
    "                f.write(\"\\n\")\n",
    "\n",
    "                f.write(\"--- Results by Question Level ---\\n\")\n",
    "                q_level_results = mode_results.get(\n",
    "                    'by_question_level', {})\n",
    "                if q_level_results:\n",
    "                    for level in sorted(q_level_results.keys()):\n",
    "                        stats = q_level_results[level]\n",
    "                        acc = calc_accuracy(stats)\n",
    "                        f.write(\n",
    "                            f\"{level.replace('_', ' ').title()}: {acc:.2f}% {get_counts(stats)}\\n\")\n",
    "                else:\n",
    "                    f.write(\"No data available.\\n\")\n",
    "                f.write(\"\\n\")\n",
    "\n",
    "        print(f\"统计摘要已保存到: {filename}\")\n",
    "    except IOError as e:\n",
    "        print(f\"保存统计文本时出错: {e}\")\n",
    "\n",
    "\n",
    "\n",
    "input_file = \"./evaluate/VLM/evaluation_output/qwen_full_shuffle/shuffle_results.json\"\n",
    "video_dir = \"./clips/clips_resized/\"\n",
    "min_duration = 100\n",
    "\n",
    "filter_and_recalculate_stats(json_file_path=input_file, video_clip_dir=video_dir, min_duration=min_duration)\n"
   ]
  },
  {
   "cell_type": "markdown",
   "metadata": {},
   "source": [
    "### 统计不同min_duration的overall accuracy"
   ]
  },
  {
   "cell_type": "code",
   "execution_count": 16,
   "metadata": {},
   "outputs": [
    {
     "name": "stderr",
     "output_type": "stream",
     "text": [
      "缓存视频时长:   3%|▎         | 39/1428 [00:00<00:03, 383.58it/s]"
     ]
    },
    {
     "name": "stderr",
     "output_type": "stream",
     "text": [
      "缓存视频时长: 100%|██████████| 1428/1428 [00:06<00:00, 213.79it/s]\n",
      "不同min_duration统计: 100%|██████████| 41/41 [00:00<00:00, 300.97it/s]\n"
     ]
    },
    {
     "data": {
      "image/png": "[encoded data removed]",
      "text/plain": [
       "<Figure size 800x500 with 1 Axes>"
      ]
     },
     "metadata": {},
     "output_type": "display_data"
    }
   ],
   "source": [
    "import json\n",
    "import os\n",
    "from collections import defaultdict\n",
    "from tqdm import tqdm\n",
    "import matplotlib.pyplot as plt\n",
    "\n",
    "\n",
    "def get_video_duration(video_path):\n",
    "    import cv2\n",
    "    if not os.path.exists(video_path):\n",
    "        return None\n",
    "    video = cv2.VideoCapture(video_path)\n",
    "    fps = video.get(cv2.CAP_PROP_FPS)\n",
    "    frame_count = int(video.get(cv2.CAP_PROP_FRAME_COUNT))\n",
    "    video.release()\n",
    "    if fps == 0:\n",
    "        return None\n",
    "    return frame_count / fps\n",
    "\n",
    "\n",
    "def calculate_statistics(model_answers):\n",
    "    results_vote = {\n",
    "        'overall': {'correct': 0, 'total': 0},\n",
    "    }\n",
    "    results_all = {\n",
    "        'overall': {'correct': 0, 'total': 0},\n",
    "    }\n",
    "    for answer in model_answers:\n",
    "        from collections import Counter\n",
    "        vote_content = Counter(\n",
    "            answer[\"shuffle_model_answer_contents\"]).most_common(1)[0][0]\n",
    "        vote_correct = (vote_content == answer[\"shuffle_correct_contents\"][-1])\n",
    "        results_vote['overall']['total'] += 1\n",
    "        if vote_correct:\n",
    "            results_vote['overall']['correct'] += 1\n",
    "        for model_content, correct_content in zip(answer[\"shuffle_model_answer_contents\"], answer[\"shuffle_correct_contents\"]):\n",
    "            results_all['overall']['total'] += 1\n",
    "            if model_content == correct_content:\n",
    "                results_all['overall']['correct'] += 1\n",
    "    return results_vote, results_all\n",
    "\n",
    "\n",
    "def get_overall_acc(stats):\n",
    "    if stats['overall']['total'] == 0:\n",
    "        return 0.0\n",
    "    return stats['overall']['correct'] / stats['overall']['total']\n",
    "\n",
    "\n",
    "# 参数\n",
    "input_file = \"./evaluate/VLM/evaluation_output/qwen_full_shuffle/shuffle_results.json\"\n",
    "video_dir = \"./clips/clips_resized/\"\n",
    "\n",
    "# 读取QA结果\n",
    "with open(input_file, 'r', encoding='utf-8') as f:\n",
    "    results = json.load(f)\n",
    "\n",
    "# 预先缓存所有视频时长，避免重复读取\n",
    "video_duration_dict = {}\n",
    "import cv2\n",
    "for qa_item in tqdm(results, desc=\"缓存视频时长\"):\n",
    "    match_id = qa_item[\"match_id\"]\n",
    "    event_type = qa_item[\"event_type\"]\n",
    "    qa_index = qa_item[\"index\"]\n",
    "    video_filename = f\"{match_id}_{event_type}_{qa_index}.mp4\"\n",
    "    video_path = os.path.join(video_dir, match_id, video_filename)\n",
    "    if video_path not in video_duration_dict:\n",
    "        duration = get_video_duration(video_path)\n",
    "        video_duration_dict[video_path] = duration\n",
    "\n",
    "# 记录不同min_duration下的精度\n",
    "min_durations = list(range(0, 2001, 50))\n",
    "vote_acc_list = []\n",
    "all_acc_list = []\n",
    "\n",
    "for min_duration in tqdm(min_durations, desc=\"不同min_duration统计\"):\n",
    "    filtered_results = []\n",
    "    for qa_item in results:\n",
    "        match_id = qa_item[\"match_id\"]\n",
    "        event_type = qa_item[\"event_type\"]\n",
    "        qa_index = qa_item[\"index\"]\n",
    "        video_filename = f\"{match_id}_{event_type}_{qa_index}.mp4\"\n",
    "        video_path = os.path.join(video_dir, match_id, video_filename)\n",
    "        duration = video_duration_dict.get(video_path, None)\n",
    "        if duration is not None and duration > min_duration:\n",
    "            filtered_results.append(qa_item)\n",
    "    results_vote, results_all = calculate_statistics(filtered_results)\n",
    "    vote_acc = get_overall_acc(results_vote)\n",
    "    all_acc = get_overall_acc(results_all)\n",
    "    vote_acc_list.append(vote_acc)\n",
    "    all_acc_list.append(all_acc)\n",
    "\n",
    "# 绘图\n",
    "plt.figure(figsize=(8, 5))\n",
    "plt.plot(min_durations, [v * 100 for v in vote_acc_list],\n",
    "         label=\"Vote Overall Accuracy\")\n",
    "plt.plot(min_durations, [v * 100 for v in all_acc_list],\n",
    "         label=\"All Overall Accuracy\")\n",
    "plt.xlabel(\"min_duration (s)\")\n",
    "plt.ylabel(\"Overall Accuracy (%)\")\n",
    "plt.title(\"Qwen2.5-VL\")\n",
    "plt.legend()\n",
    "plt.grid(True)\n",
    "plt.show()"
   ]
  },
  {
   "cell_type": "markdown",
   "metadata": {},
   "source": [
    "### 统计random acc"
   ]
  },
  {
   "cell_type": "code",
   "execution_count": 17,
   "metadata": {},
   "outputs": [],
   "source": [
    "import os\n",
    "\n",
    "path = './First_Half_QA/'\n",
    "correct = 0\n",
    "all = 0\n",
    "for file in os.listdir(path):\n",
    "    if file.endswith('.json'):\n",
    "        with open(os.path.join(path, file), 'r', encoding='utf-8') as f:\n",
    "            data = json.load(f)\n",
    "            for qa in data:\n",
    "                all += 1\n",
    "                correct += 1 / len(qa['choices'])"
   ]
  },
  {
   "cell_type": "code",
   "execution_count": 18,
   "metadata": {},
   "outputs": [
    {
     "data": {
      "text/plain": [
       "(394.75, 1428, 0.2764355742296919)"
      ]
     },
     "execution_count": 18,
     "metadata": {},
     "output_type": "execute_result"
    }
   ],
   "source": [
    "correct, all, correct / all"
   ]
  }
 ],
 "metadata": {
  "kernelspec": {
   "display_name": "zhk",
   "language": "python",
   "name": "python3"
  },
  "language_info": {
   "codemirror_mode": {
    "name": "ipython",
    "version": 3
   },
   "file_extension": ".py",
   "mimetype": "text/x-python",
   "name": "python",
   "nbconvert_exporter": "python",
   "pygments_lexer": "ipython3",
   "version": "3.11.12"
  }
 },
 "nbformat": 4,
 "nbformat_minor": 2
}
